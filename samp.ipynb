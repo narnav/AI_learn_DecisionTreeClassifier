{
 "cells": [
  {
   "cell_type": "markdown",
   "metadata": {},
   "source": [
    "this application check prediction accuracy"
   ]
  },
  {
   "cell_type": "code",
   "execution_count": null,
   "metadata": {},
   "outputs": [],
   "source": [
    "from sklearn.tree import DecisionTreeClassifier\n",
    "from sklearn.model_selection import train_test_split\n",
    "from sklearn.metrics import accuracy_score\n",
    "import pandas as pd\n",
    "\n",
    "# gather data\n",
    "music_dt  =pd.read_csv('music.csv')\n",
    "\n",
    "\n",
    "# display the data\n",
    "print(music_dt)\n",
    "\n",
    "\n",
    "# prepare 2 groups\n",
    "X=music_dt.drop(columns=['genre']) # sample features\n",
    "Y=music_dt['genre'] # sample output\n",
    "\n",
    "\n",
    "# X= input train,test, Y = output train, testing\n",
    "X_train,X_test,Y_train,Y_test= train_test_split(X,Y,test_size=.2)\n",
    "\n",
    "\n",
    "model = DecisionTreeClassifier()\n",
    "model.fit(X_train,Y_train) # load features and sample data\n",
    "predictions= model.predict(X_test) # make prediction base on the features and samp output\n",
    "score=accuracy_score(Y_test,predictions)\n",
    "# score\n"
   ]
  },
  {
   "cell_type": "markdown",
   "metadata": {},
   "source": [
    "sec"
   ]
  },
  {
   "cell_type": "code",
   "execution_count": 13,
   "metadata": {},
   "outputs": [
    {
     "data": {
      "text/plain": [
       "['our_pridction.joblib']"
      ]
     },
     "execution_count": 13,
     "metadata": {},
     "output_type": "execute_result"
    }
   ],
   "source": [
    "from sklearn.tree import DecisionTreeClassifier\n",
    "from sklearn.model_selection import train_test_split\n",
    "from sklearn.metrics import accuracy_score\n",
    "import joblib\n",
    "import pandas as pd\n",
    "\n",
    "# gather data\n",
    "music_dt  =pd.read_csv('music.csv')\n",
    "\n",
    "\n",
    "# display the data\n",
    "music_dt\n",
    "\n",
    "\n",
    "# prepare 2 groups\n",
    "X=music_dt.drop(columns=['genre']) # sample features\n",
    "Y=music_dt['genre'] # sample output\n",
    "\n",
    "\n",
    "# X= input train,test, Y = output train, testing\n",
    "X_train,X_test,Y_train,Y_test= train_test_split(X,Y,test_size=.2)\n",
    "\n",
    "\n",
    "model = DecisionTreeClassifier()\n",
    "model.fit(X_train,Y_train) # load features and sample data\n",
    "\n",
    "\n",
    "joblib.dump(model, 'our_pridction.joblib') #binary file"
   ]
  },
  {
   "cell_type": "markdown",
   "metadata": {},
   "source": [
    "using the saved model"
   ]
  },
  {
   "cell_type": "code",
   "execution_count": null,
   "metadata": {},
   "outputs": [],
   "source": [
    "import joblib\n",
    "\n",
    "model=joblib.load('our_pridction.joblib')\n",
    "predictions= model.predict([[21,1]])\n",
    "predictions\n"
   ]
  },
  {
   "cell_type": "markdown",
   "metadata": {},
   "source": [
    "graphviz - addon"
   ]
  },
  {
   "cell_type": "code",
   "execution_count": 16,
   "metadata": {},
   "outputs": [],
   "source": [
    "from sklearn.tree import DecisionTreeClassifier\n",
    "import pandas as pd\n",
    "from sklearn import tree\n",
    "\n",
    "\n",
    "# gather data\n",
    "music_dt  =pd.read_csv('music.csv')\n",
    "\n",
    "\n",
    "# display the data\n",
    "music_dt\n",
    "\n",
    "\n",
    "# prepare 2 groups\n",
    "X=music_dt.drop(columns=['genre']) # sample features\n",
    "Y=music_dt['genre'] # sample output\n",
    "\n",
    "\n",
    "\n",
    "\n",
    "model = DecisionTreeClassifier()\n",
    "model.fit(X,Y) # load features and sample data\n",
    "\n",
    "\n",
    "tree.export_graphviz(model,out_file='music_rec.dot',feature_names=['age','gender'],class_names=sorted(Y.unique()),label='all',rounded=True,filled=True)\n"
   ]
  }
 ],
 "metadata": {
  "kernelspec": {
   "display_name": "env",
   "language": "python",
   "name": "python3"
  },
  "language_info": {
   "codemirror_mode": {
    "name": "ipython",
    "version": 3
   },
   "file_extension": ".py",
   "mimetype": "text/x-python",
   "name": "python",
   "nbconvert_exporter": "python",
   "pygments_lexer": "ipython3",
   "version": "3.12.0"
  }
 },
 "nbformat": 4,
 "nbformat_minor": 2
}
